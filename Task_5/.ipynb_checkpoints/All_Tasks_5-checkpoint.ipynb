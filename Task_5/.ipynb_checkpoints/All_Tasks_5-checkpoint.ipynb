{
 "cells": [
  {
   "cell_type": "code",
   "execution_count": 1,
   "id": "5cd045b8",
   "metadata": {},
   "outputs": [],
   "source": [
    "import numpy as np\n",
    "import ipytest\n",
    "ipytest.autoconfig()\n",
    "from collections import deque"
   ]
  },
  {
   "cell_type": "code",
   "execution_count": 2,
   "id": "6565ee67",
   "metadata": {},
   "outputs": [
    {
     "name": "stdout",
     "output_type": "stream",
     "text": [
      "\u001b[32m.\u001b[0m\u001b[32m                                                                                            [100%]\u001b[0m\n",
      "\u001b[32m\u001b[32m\u001b[1m1 passed\u001b[0m\u001b[32m in 0.00s\u001b[0m\u001b[0m\n"
     ]
    },
    {
     "data": {
      "text/plain": [
       "<ExitCode.OK: 0>"
      ]
     },
     "execution_count": 2,
     "metadata": {},
     "output_type": "execute_result"
    }
   ],
   "source": [
    "class TreeNode:\n",
    "    def __init__(self, val=0, left=None, right=None):\n",
    "        self.val = val\n",
    "        self.left = left\n",
    "        self.right = right\n",
    "\n",
    "def is_max_heap(root):\n",
    "    if not root:\n",
    "        return True\n",
    "    \n",
    "    queue = deque([root])\n",
    "    should_be_leaf = False\n",
    "    while queue:\n",
    "        current = queue.popleft()\n",
    "        \n",
    "        # Проверяем левый потомок\n",
    "        if current.left:\n",
    "            if should_be_leaf or current.left.val > current.val:\n",
    "                return False\n",
    "            queue.append(current.left)\n",
    "        else:\n",
    "            should_be_leaf = True  # Все следующие узлы должны быть листьями\n",
    "        \n",
    "        # Проверяем правый потомок\n",
    "        if current.right:\n",
    "            if should_be_leaf or current.right.val > current.val:\n",
    "                return False\n",
    "            queue.append(current.right)\n",
    "        else:\n",
    "            should_be_leaf = True  # Все следующие узлы должны быть листьями\n",
    "    \n",
    "    return True\n",
    "\n",
    "def test_is_max_heap ():\n",
    "    root = TreeNode(9)\n",
    "    root.left = TreeNode(6)\n",
    "    root.right = TreeNode(10)\n",
    "    assert is_max_heap(root) == False\n",
    "ipytest.run()"
   ]
  },
  {
   "cell_type": "code",
   "execution_count": 8,
   "id": "511415c1",
   "metadata": {},
   "outputs": [
    {
     "name": "stdout",
     "output_type": "stream",
     "text": [
      "\u001b[32m.\u001b[0m\u001b[32m.\u001b[0m\u001b[32m.\u001b[0m\u001b[32m                                                                                          [100%]\u001b[0m\n",
      "\u001b[32m\u001b[32m\u001b[1m3 passed\u001b[0m\u001b[32m in 0.01s\u001b[0m\u001b[0m\n"
     ]
    },
    {
     "data": {
      "text/plain": [
       "<ExitCode.OK: 0>"
      ]
     },
     "execution_count": 8,
     "metadata": {},
     "output_type": "execute_result"
    }
   ],
   "source": [
    "def is_complete_tree(root):\n",
    "    if not root:\n",
    "        return True\n",
    "    \n",
    "    queue = deque([root])\n",
    "    seen_null = False\n",
    "    while queue:\n",
    "        node = queue.popleft()\n",
    "        if not node:\n",
    "            seen_null = True\n",
    "        else:\n",
    "            if seen_null:\n",
    "                return False\n",
    "            queue.append(node.left)\n",
    "            queue.append(node.right)\n",
    "    \n",
    "    return True\n",
    "\n",
    "def test_is_complete_tree ():\n",
    "    root = TreeNode(1)\n",
    "    root.left = TreeNode(2)\n",
    "    root.right = TreeNode(3)\n",
    "    root.left.right = TreeNode(4)\n",
    "    assert is_complete_tree(root) == False\n",
    "ipytest.run()\n"
   ]
  },
  {
   "cell_type": "code",
   "execution_count": 9,
   "id": "583d8e8d",
   "metadata": {},
   "outputs": [
    {
     "name": "stdout",
     "output_type": "stream",
     "text": [
      "\u001b[32m.\u001b[0m\u001b[32m.\u001b[0m\u001b[32m.\u001b[0m\u001b[32m                                                                                          [100%]\u001b[0m\n",
      "\u001b[32m\u001b[32m\u001b[1m3 passed\u001b[0m\u001b[32m in 0.01s\u001b[0m\u001b[0m\n"
     ]
    },
    {
     "data": {
      "text/plain": [
       "<ExitCode.OK: 0>"
      ]
     },
     "execution_count": 9,
     "metadata": {},
     "output_type": "execute_result"
    }
   ],
   "source": [
    "import heapq\n",
    "\n",
    "def merge_k_sorted_arrays(sorted_arrays):\n",
    "    merged_array = []\n",
    "    min_heap = []\n",
    "    \n",
    "    # Инициализируем кучу первыми элементами каждого массива\n",
    "    for array_idx, current_array in enumerate(sorted_arrays):\n",
    "        if len(current_array) > 0:\n",
    "            # (значение, индекс массива, индекс элемента)\n",
    "            heapq.heappush(min_heap, (current_array[0], array_idx, 0))\n",
    "    \n",
    "    while min_heap:   # Пока куча не пуста\n",
    "        # Извлекаем наименьший элемент из кучи\n",
    "        value, array_idx, element_idx = heapq.heappop(min_heap)\n",
    "        merged_array.append(value)\n",
    "        \n",
    "        # Проверяем, есть ли следующий элемент в том же массиве\n",
    "        if element_idx + 1 < len(sorted_arrays[array_idx]):\n",
    "            next_element = sorted_arrays[array_idx][element_idx + 1]\n",
    "            heapq.heappush(min_heap, (next_element, array_idx, element_idx + 1))\n",
    "    \n",
    "    return merged_array\n",
    "\n",
    "\n",
    "def merge_k_sorted_arrays ():\n",
    "    arrays = [[1, 4, 7], [2, 5, 8], [3, 6, 9]]\n",
    "    assert all(merge_k_sorted_arrays(root)) == all([1, 2, 3, 4, 5, 6, 7, 8, 9])\n",
    "ipytest.run()"
   ]
  },
  {
   "cell_type": "code",
   "execution_count": 10,
   "id": "8ee98fbf",
   "metadata": {},
   "outputs": [],
   "source": [
    "def inorder_min(node, k, counter):\n",
    "    if node is None:\n",
    "        return None\n",
    "    \n",
    "    left_result = inorder_min(node.left, k, counter) # Обход левого поддерева\n",
    "    if left_result is not None:\n",
    "        return left_result\n",
    "    \n",
    "    # Увеличиваем счетчик и проверяем текущий узел\n",
    "    counter[0] += 1  # Используем список для передачи по ссылке\n",
    "    if counter[0] == k:\n",
    "        return node.val\n",
    "    \n",
    "    return inorder_min(node.right, k, counter)# Обход правого поддерева\n"
   ]
  },
  {
   "cell_type": "code",
   "execution_count": 11,
   "id": "0b28c31a",
   "metadata": {},
   "outputs": [
    {
     "name": "stdout",
     "output_type": "stream",
     "text": [
      "\u001b[32m.\u001b[0m\u001b[32m.\u001b[0m\u001b[32m.\u001b[0m\u001b[32m                                                                                          [100%]\u001b[0m\n",
      "\u001b[32m\u001b[32m\u001b[1m3 passed\u001b[0m\u001b[32m in 0.01s\u001b[0m\u001b[0m\n"
     ]
    },
    {
     "data": {
      "text/plain": [
       "<ExitCode.OK: 0>"
      ]
     },
     "execution_count": 11,
     "metadata": {},
     "output_type": "execute_result"
    }
   ],
   "source": [
    "class TreeNode:\n",
    "    def __init__(self, val=0, left=None, right=None):\n",
    "        self.val = val\n",
    "        self.left = left\n",
    "        self.right = right\n",
    "        self.balance_factor = 0\n",
    "\n",
    "def calculate_heights_and_balance(node):\n",
    "    if node is None:\n",
    "        return 0  # Высота пустого поддерева равна 0\n",
    "    \n",
    "    left_height = calculate_heights_and_balance(node.left) # Рекурсивно вычисляем высоты левого и правого поддеревьев\n",
    "    right_height = calculate_heights_and_balance(node.right)\n",
    "    \n",
    "    node.balance_factor = left_height - right_height  # Вычисляем баланс-фактор текущего узла\n",
    "    \n",
    "    return 1 + max(left_height, right_height)  # Возвращаем высоту текущего поддерева\n",
    "\n",
    "\n",
    "\n",
    "def test_calculate_heights_and_balance ():\n",
    "    root = TreeNode(1)\n",
    "    root.left = TreeNode(2)\n",
    "    root.right = TreeNode(3)\n",
    "    root.left.left = TreeNode(4)\n",
    "    root.left.right = TreeNode(5)\n",
    "    assert calculate_heights_and_balance(root) == 3\n",
    "ipytest.run()"
   ]
  },
  {
   "cell_type": "code",
   "execution_count": 16,
   "id": "713e1537",
   "metadata": {},
   "outputs": [],
   "source": [
    "def mirror_tree_iterative(root):\n",
    "    if root is None:\n",
    "        return None\n",
    "    \n",
    "    queue = deque([root]) # Очередь для обхода в ширину\n",
    "    \n",
    "    while queue:\n",
    "        current = queue.popleft()\n",
    "        \n",
    "        current.left, current.right = current.right, current.left  # Меняем местами левый и правый дочерние узлы\n",
    "        \n",
    "        # Добавляем дочерние узлы в очередь\n",
    "        if current.left:\n",
    "            queue.append(current.left)\n",
    "        if current.right:\n",
    "            queue.append(current.right)\n",
    "    \n",
    "    return root\n",
    "\n"
   ]
  },
  {
   "cell_type": "code",
   "execution_count": null,
   "id": "5420b8a4",
   "metadata": {},
   "outputs": [],
   "source": []
  }
 ],
 "metadata": {
  "kernelspec": {
   "display_name": "Python 3 (ipykernel)",
   "language": "python",
   "name": "python3"
  },
  "language_info": {
   "codemirror_mode": {
    "name": "ipython",
    "version": 3
   },
   "file_extension": ".py",
   "mimetype": "text/x-python",
   "name": "python",
   "nbconvert_exporter": "python",
   "pygments_lexer": "ipython3",
   "version": "3.11.5"
  }
 },
 "nbformat": 4,
 "nbformat_minor": 5
}
