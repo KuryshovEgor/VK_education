{
 "cells": [
  {
   "cell_type": "code",
   "execution_count": 2,
   "id": "51693000",
   "metadata": {},
   "outputs": [],
   "source": [
    "import ipytest\n",
    "ipytest.autoconfig()"
   ]
  },
  {
   "cell_type": "code",
   "execution_count": 3,
   "id": "5b8e4fb4",
   "metadata": {},
   "outputs": [
    {
     "name": "stdout",
     "output_type": "stream",
     "text": [
      "\u001b[32m.\u001b[0m\u001b[32m                                                                                            [100%]\u001b[0m\n",
      "\u001b[32m\u001b[32m\u001b[1m1 passed\u001b[0m\u001b[32m in 0.01s\u001b[0m\u001b[0m\n"
     ]
    },
    {
     "data": {
      "text/plain": [
       "<ExitCode.OK: 0>"
      ]
     },
     "execution_count": 3,
     "metadata": {},
     "output_type": "execute_result"
    }
   ],
   "source": [
    "#две единицы подряд\n",
    "def b_sequences(n):\n",
    "    dp = [1, 2]\n",
    "    for i in range(2, n + 1):\n",
    "        dp.append(dp[i - 1] + dp[i - 2])\n",
    "    return dp[n]\n",
    "\n",
    "def test_b_sequences ():\n",
    "    assert b_sequences(3) == 5\n",
    "ipytest.run()"
   ]
  },
  {
   "cell_type": "code",
   "execution_count": 5,
   "id": "da7b956e",
   "metadata": {},
   "outputs": [
    {
     "name": "stdout",
     "output_type": "stream",
     "text": [
      "\u001b[32m.\u001b[0m\u001b[32m.\u001b[0m\u001b[32m                                                                                           [100%]\u001b[0m\n",
      "\u001b[32m\u001b[32m\u001b[1m2 passed\u001b[0m\u001b[32m in 0.00s\u001b[0m\u001b[0m\n"
     ]
    },
    {
     "data": {
      "text/plain": [
       "<ExitCode.OK: 0>"
      ]
     },
     "execution_count": 5,
     "metadata": {},
     "output_type": "execute_result"
    }
   ],
   "source": [
    "#три единицы подряд\n",
    "def count_sequences(n):\n",
    "    if n == 0:\n",
    "        return 1\n",
    "    if n == 1:\n",
    "        return 2\n",
    "    if n == 2:\n",
    "        return 4\n",
    "    \n",
    "    dp = [1, 2, 4]\n",
    "    \n",
    "    for i in range(3, n + 1):\n",
    "        dp.append(dp[i - 1] + dp[i - 2] + dp[i - 3])\n",
    "    \n",
    "    return dp[n]\n",
    "\n",
    "def test_count_sequences ():\n",
    "    assert count_sequences(3) == 7\n",
    "ipytest.run()"
   ]
  },
  {
   "cell_type": "code",
   "execution_count": 7,
   "id": "df4be125",
   "metadata": {},
   "outputs": [
    {
     "name": "stdout",
     "output_type": "stream",
     "text": [
      "\u001b[32m.\u001b[0m\u001b[32m.\u001b[0m\u001b[32m.\u001b[0m\u001b[32m                                                                                          [100%]\u001b[0m\n",
      "\u001b[32m\u001b[32m\u001b[1m3 passed\u001b[0m\u001b[32m in 0.01s\u001b[0m\u001b[0m\n"
     ]
    },
    {
     "data": {
      "text/plain": [
       "<ExitCode.OK: 0>"
      ]
     },
     "execution_count": 7,
     "metadata": {},
     "output_type": "execute_result"
    }
   ],
   "source": [
    "#возрастающая последовательность\n",
    "def findLIS(nums):\n",
    "    if not nums:\n",
    "        return 0\n",
    "    if len(nums) == 1:\n",
    "        return 1\n",
    "    \n",
    "    dp = [1] * len(nums)\n",
    "    \n",
    "    for i in range(1, len(nums)):\n",
    "        if nums[i - 1] < nums[i]:\n",
    "            dp[i] = dp[i - 1] + 1\n",
    "    \n",
    "    return max(dp)\n",
    "\n",
    "def test_findLIS ():\n",
    "    assert findLIS([3, 2, 8, 9, 5, 10]) == 3\n",
    "ipytest.run()"
   ]
  },
  {
   "cell_type": "code",
   "execution_count": 8,
   "id": "2e619795",
   "metadata": {},
   "outputs": [
    {
     "name": "stdout",
     "output_type": "stream",
     "text": [
      "[1]\n",
      "[1, 1]\n",
      "[1, 2, 1]\n",
      "[1, 3, 3, 1]\n",
      "[1, 4, 6, 4, 1]\n",
      "[1, 5, 10, 10, 5, 1]\n"
     ]
    }
   ],
   "source": [
    "#труегольник Паскаля\n",
    "n = 6\n",
    "dp = []\n",
    "for i in range(1, n + 1):\n",
    "    tmp = []\n",
    "    for j in range(1, i + 1):\n",
    "        tmp.append(1)\n",
    "    dp.append(tmp)\n",
    "\n",
    "for row in range(1, n):\n",
    "    for col in range(1, row):\n",
    "        dp[row][col] = dp[row-1][col-1] + dp[row-1][col]\n",
    "for row in dp:\n",
    "    print(row)\n",
    "    "
   ]
  },
  {
   "cell_type": "code",
   "execution_count": 10,
   "id": "575f87bb",
   "metadata": {},
   "outputs": [
    {
     "name": "stdout",
     "output_type": "stream",
     "text": [
      "\u001b[32m.\u001b[0m\u001b[32m.\u001b[0m\u001b[32m.\u001b[0m\u001b[32m.\u001b[0m\u001b[32m                                                                                         [100%]\u001b[0m\n",
      "\u001b[32m\u001b[32m\u001b[1m4 passed\u001b[0m\u001b[32m in 0.01s\u001b[0m\u001b[0m\n"
     ]
    },
    {
     "data": {
      "text/plain": [
       "<ExitCode.OK: 0>"
      ]
     },
     "execution_count": 10,
     "metadata": {},
     "output_type": "execute_result"
    }
   ],
   "source": [
    "#акции\n",
    "def maxProfit(prices):\n",
    "    if not prices:\n",
    "        return 0\n",
    "    \n",
    "    profit = 0\n",
    "    min_price = prices[0]\n",
    "    \n",
    "    for current_price in prices[1:]:\n",
    "        profit = max(profit, current_price - min_price)\n",
    "        min_price = min(current_price, min_price)\n",
    "    \n",
    "    return profit\n",
    "\n",
    "def test_maxProfit ():\n",
    "    assert maxProfit([8, 9, 3, 7, 4, 16, 12]) == 13\n",
    "ipytest.run()"
   ]
  },
  {
   "cell_type": "code",
   "execution_count": 11,
   "id": "40de2d17",
   "metadata": {},
   "outputs": [],
   "source": [
    "#Разменная монета\n",
    "def coinChange(coins, amount):\n",
    "    dp = [float('inf')] * (amount + 1)\n",
    "    dp[0] = 0  # Базовый случай: для суммы 0 нужно 0 монет\n",
    "    \n",
    "    for i in range(1, amount + 1):\n",
    "        for coin in coins:\n",
    "            if coin <= i:\n",
    "                # Обновляем минимальное количество монет\n",
    "                dp[i] = min(dp[i], dp[i - coin] + 1)\n",
    "\n",
    "    return dp[amount] if dp[amount] != float('inf') else -1"
   ]
  },
  {
   "cell_type": "code",
   "execution_count": 12,
   "id": "4d10dd12",
   "metadata": {},
   "outputs": [],
   "source": [
    "#полиндромы\n",
    "def longestPalindrome(s: str) -> str:\n",
    "    if not s:\n",
    "        return \"\"\n",
    "    \n",
    "    current_max_left = 0\n",
    "    current_max_right = 0\n",
    "    \n",
    "    def expand_around_center(l: int, r: int):\n",
    "        nonlocal current_max_left, current_max_right\n",
    "        while l >= 0 and r < len(s) and s[l] == s[r]:\n",
    "            if (r - l) > (current_max_right - current_max_left):\n",
    "                current_max_left = l\n",
    "                current_max_right = r\n",
    "            l -= 1\n",
    "            r += 1\n",
    "    \n",
    "    for i in range(len(s)):\n",
    "        expand_around_center(i, i)     # Палиндром нечетной длины\n",
    "        expand_around_center(i, i + 1)  # Палиндром четной длины\n",
    "    \n",
    "    return s[current_max_left:current_max_right + 1]\n",
    "\n"
   ]
  },
  {
   "cell_type": "code",
   "execution_count": 17,
   "id": "3995b4c9",
   "metadata": {},
   "outputs": [
    {
     "data": {
      "text/plain": [
       "[[True, False, True, False, False],\n",
       " [False, True, False, True, False],\n",
       " [False, False, True, False, False],\n",
       " [False, False, False, True, False],\n",
       " [False, False, False, False, True]]"
      ]
     },
     "execution_count": 17,
     "metadata": {},
     "output_type": "execute_result"
    }
   ],
   "source": [
    "#дз\n",
    "def longest_palindrome(s):\n",
    "    n = len(s)\n",
    "    if n == 0:\n",
    "        return []  \n",
    "    \n",
    "    dp = [[False] * n for _ in range(n)]\n",
    "    # Каждый отдельный символ - палиндром\n",
    "    for i in range(n):\n",
    "        dp[i][i] = True\n",
    "\n",
    "    # Проверяем подстроки длины 2\n",
    "    for i in range(n - 1):\n",
    "        if s[i] == s[i + 1]:\n",
    "            dp[i][i + 1] = True\n",
    "    \n",
    "    # Проверяем подстроки длины > 2\n",
    "    for length in range(3, n + 1):\n",
    "        for i in range(n - length + 1):\n",
    "            j = i + length - 1\n",
    "            if s[i] == s[j] and dp[i + 1][j - 1]:\n",
    "                dp[i][j] = True\n",
    "        \n",
    "    return dp\n",
    "longest_palindrome(\"babad\")"
   ]
  },
  {
   "cell_type": "code",
   "execution_count": null,
   "id": "1c12e146",
   "metadata": {},
   "outputs": [],
   "source": []
  }
 ],
 "metadata": {
  "kernelspec": {
   "display_name": "Python 3 (ipykernel)",
   "language": "python",
   "name": "python3"
  },
  "language_info": {
   "codemirror_mode": {
    "name": "ipython",
    "version": 3
   },
   "file_extension": ".py",
   "mimetype": "text/x-python",
   "name": "python",
   "nbconvert_exporter": "python",
   "pygments_lexer": "ipython3",
   "version": "3.11.5"
  }
 },
 "nbformat": 4,
 "nbformat_minor": 5
}
