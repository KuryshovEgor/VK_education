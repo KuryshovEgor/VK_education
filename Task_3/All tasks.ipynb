{
 "cells": [
  {
   "cell_type": "code",
   "execution_count": 1,
   "id": "7e74fe80",
   "metadata": {},
   "outputs": [],
   "source": [
    "import numpy as np\n",
    "import ipytest\n",
    "ipytest.autoconfig()"
   ]
  },
  {
   "cell_type": "code",
   "execution_count": 2,
   "id": "c9c11ca6",
   "metadata": {},
   "outputs": [
    {
     "name": "stdout",
     "output_type": "stream",
     "text": [
      "\u001b[32m.\u001b[0m\u001b[32m                                                                                            [100%]\u001b[0m\n",
      "\u001b[32m\u001b[32m\u001b[1m1 passed\u001b[0m\u001b[32m in 0.00s\u001b[0m\u001b[0m\n"
     ]
    },
    {
     "data": {
      "text/plain": [
       "<ExitCode.OK: 0>"
      ]
     },
     "execution_count": 2,
     "metadata": {},
     "output_type": "execute_result"
    }
   ],
   "source": [
    "def binarySearchSqrt (target):\n",
    "    l = 0\n",
    "    r = target\n",
    "    while l <= r:\n",
    "        middle = (l+r)//2\n",
    "        if middle**2 > target:\n",
    "            r = middle-1\n",
    "            continue\n",
    "            \n",
    "        if middle**2 < target:\n",
    "            l = middle+1\n",
    "            continue\n",
    "        return middle\n",
    "    return r\n",
    "\n",
    "def test_binarySearchSqrt ():\n",
    "    t = 9\n",
    "    assert binarySearchSqrt(t) == 3\n",
    "ipytest.run()"
   ]
  },
  {
   "cell_type": "code",
   "execution_count": 3,
   "id": "7afb42ef",
   "metadata": {},
   "outputs": [
    {
     "name": "stdout",
     "output_type": "stream",
     "text": [
      "\u001b[32m.\u001b[0m\u001b[32m.\u001b[0m\u001b[32m                                                                                           [100%]\u001b[0m\n",
      "\u001b[32m\u001b[32m\u001b[1m2 passed\u001b[0m\u001b[32m in 0.00s\u001b[0m\u001b[0m\n"
     ]
    },
    {
     "data": {
      "text/plain": [
       "<ExitCode.OK: 0>"
      ]
     },
     "execution_count": 3,
     "metadata": {},
     "output_type": "execute_result"
    }
   ],
   "source": [
    "import math\n",
    "def copyTime(n, x, y):\n",
    "    l = 0\n",
    "    r = (n - 1) * max(x, y)\n",
    "\n",
    "    while l + 1 < r:\n",
    "        mid =(r + l) / 2\n",
    "        if mid/x + mid/y < n-1:\n",
    "            l = mid\n",
    "        else:\n",
    "            r = mid\n",
    "        print(mid, l, r)\n",
    "    return  math.ceil(r) + min(x, y)\n",
    "\n",
    "def test_copyTime ():\n",
    "    assert copyTime(5, 1, 2) == 4\n",
    "ipytest.run()"
   ]
  },
  {
   "cell_type": "code",
   "execution_count": 4,
   "id": "1d604a88",
   "metadata": {},
   "outputs": [
    {
     "name": "stdout",
     "output_type": "stream",
     "text": [
      "\u001b[32m.\u001b[0m\u001b[32m.\u001b[0m\u001b[32m.\u001b[0m\u001b[32m                                                                                          [100%]\u001b[0m\n",
      "\u001b[32m\u001b[32m\u001b[1m3 passed\u001b[0m\u001b[32m in 0.01s\u001b[0m\u001b[0m\n"
     ]
    },
    {
     "data": {
      "text/plain": [
       "<ExitCode.OK: 0>"
      ]
     },
     "execution_count": 4,
     "metadata": {},
     "output_type": "execute_result"
    }
   ],
   "source": [
    "def feedAnimals(animals, food):\n",
    "    if len(animals) == 0 or len(food) == 0:\n",
    "        return 0\n",
    "    animals = sorted(animals) \n",
    "    food = sorted(food) \n",
    "\n",
    "    count = 0\n",
    "    for f in food:\n",
    "        if f >= animals[count]:\n",
    "            count += 1\n",
    "        if count == len(animals):\n",
    "            break\n",
    "\n",
    "    return count\n",
    "\n",
    "\n",
    "def test_feedAnimals ():\n",
    "    assert feedAnimals ([3, 2, 10, 5, 4], [7, 1, 8]) == 2\n",
    "ipytest.run()"
   ]
  },
  {
   "cell_type": "code",
   "execution_count": 5,
   "id": "41988fed",
   "metadata": {},
   "outputs": [
    {
     "name": "stdout",
     "output_type": "stream",
     "text": [
      "\u001b[32m.\u001b[0m\u001b[32m.\u001b[0m\u001b[32m.\u001b[0m\u001b[32m.\u001b[0m\u001b[32m                                                                                         [100%]\u001b[0m\n",
      "\u001b[32m\u001b[32m\u001b[1m4 passed\u001b[0m\u001b[32m in 0.01s\u001b[0m\u001b[0m\n"
     ]
    },
    {
     "data": {
      "text/plain": [
       "<ExitCode.OK: 0>"
      ]
     },
     "execution_count": 5,
     "metadata": {},
     "output_type": "execute_result"
    }
   ],
   "source": [
    "def extraLetter(a, b):\n",
    "    hashMapA = {}\n",
    "    for i in a:\n",
    "        hashMapA[i] = hashMapA.get(i, 0) + 1\n",
    "    \n",
    "    for i in b:\n",
    "        if i in hashMapA:\n",
    "            hashMapA[i] -= 1\n",
    "            # если счетчик достиг 0 - удаляем элемент\n",
    "            if hashMapA[i] == 0:\n",
    "                del hashMapA[i]\n",
    "            continue\n",
    "        return i\n",
    "\n",
    "    return \"\"\n",
    "\n",
    "\n",
    "def test_extraLetter ():\n",
    "    assert extraLetter(\"abd\", \"acbd\") == \"c\"\n",
    "ipytest.run()"
   ]
  },
  {
   "cell_type": "code",
   "execution_count": 6,
   "id": "4813e365",
   "metadata": {},
   "outputs": [
    {
     "name": "stdout",
     "output_type": "stream",
     "text": [
      "\u001b[32m.\u001b[0m\u001b[32m.\u001b[0m\u001b[32m.\u001b[0m\u001b[32m.\u001b[0m\u001b[32m.\u001b[0m\u001b[32m                                                                                        [100%]\u001b[0m\n",
      "\u001b[32m\u001b[32m\u001b[1m5 passed\u001b[0m\u001b[32m in 0.01s\u001b[0m\u001b[0m\n"
     ]
    },
    {
     "data": {
      "text/plain": [
       "<ExitCode.OK: 0>"
      ]
     },
     "execution_count": 6,
     "metadata": {},
     "output_type": "execute_result"
    }
   ],
   "source": [
    "def two_sum(data, target):\n",
    "    cache = {}\n",
    "    for i in range(len(data)):\n",
    "        cache[data[i]] = i\n",
    "    for i in range(len(data)):\n",
    "        diff = target - data[i]\n",
    "        if diff in cache and cache[diff] != i:  # Добавлена проверка, что это не тот же элемент\n",
    "            return [i, cache[diff]]\n",
    "    return [] \n",
    "\n",
    "\n",
    "def test_two_sum ():\n",
    "    A = ([1, 2, 3, 3, 4, 5, 6])\n",
    "    S = 7\n",
    "    Answ = ([0., 6., 1., 5., 2., 4., 3., 4.])\n",
    "    assert all(two_sum(A, S)) == all(Answ)\n",
    "ipytest.run()"
   ]
  },
  {
   "cell_type": "code",
   "execution_count": 7,
   "id": "381f8c00",
   "metadata": {},
   "outputs": [
    {
     "name": "stdout",
     "output_type": "stream",
     "text": [
      "\u001b[32m.\u001b[0m\u001b[32m.\u001b[0m\u001b[32m.\u001b[0m\u001b[32m.\u001b[0m\u001b[32m.\u001b[0m\u001b[32m.\u001b[0m\u001b[32m                                                                                       [100%]\u001b[0m\n",
      "\u001b[32m\u001b[32m\u001b[1m6 passed\u001b[0m\u001b[32m in 0.01s\u001b[0m\u001b[0m\n"
     ]
    },
    {
     "data": {
      "text/plain": [
       "<ExitCode.OK: 0>"
      ]
     },
     "execution_count": 7,
     "metadata": {},
     "output_type": "execute_result"
    }
   ],
   "source": [
    "def shell_sort(arr):\n",
    "    n = len(arr)\n",
    "    gap = int(len(arr)//2)\n",
    "    while gap > 0:\n",
    "        for current_position in range(gap, n, 1):\n",
    "            m_gap = current_position\n",
    "            while m_gap >= gap and arr[m_gap] < arr[m_gap - gap]:\n",
    "                arr[m_gap], arr[m_gap - gap] = arr[m_gap - gap], arr[m_gap]\n",
    "                m_gap -= gap\n",
    "        gap = int(gap//2)\n",
    "    return arr\n",
    "def test_shell_sort ():\n",
    "    assert all(shell_sort([1, 7, 5, 6, 2, 3, 4])) == all([1, 2, 3, 4, 5, 6, 7])\n",
    "ipytest.run()"
   ]
  },
  {
   "cell_type": "code",
   "execution_count": 8,
   "id": "443808ab",
   "metadata": {},
   "outputs": [
    {
     "name": "stdout",
     "output_type": "stream",
     "text": [
      "\u001b[32m.\u001b[0m\u001b[32m.\u001b[0m\u001b[32m.\u001b[0m\u001b[32m.\u001b[0m\u001b[32m.\u001b[0m\u001b[32m.\u001b[0m\u001b[32m.\u001b[0m\u001b[32m                                                                                      [100%]\u001b[0m\n",
      "\u001b[32m\u001b[32m\u001b[1m7 passed\u001b[0m\u001b[32m in 0.01s\u001b[0m\u001b[0m\n"
     ]
    },
    {
     "data": {
      "text/plain": [
       "<ExitCode.OK: 0>"
      ]
     },
     "execution_count": 8,
     "metadata": {},
     "output_type": "execute_result"
    }
   ],
   "source": [
    "def Anagrams(strs):\n",
    "    anagram_dict = {}\n",
    "    \n",
    "    for word in strs:\n",
    "        sorted_word = str(sorted(word))\n",
    "        if sorted_word not in anagram_dict:\n",
    "            anagram_dict[sorted_word] = []\n",
    "        anagram_dict[sorted_word].append(word)\n",
    "    \n",
    "    return list(anagram_dict.values())\n",
    "\n",
    "\n",
    "def test_Anagrams ():\n",
    "    assert all(Anagrams([\"eat\", \"tea\", \"tan\",\n",
    "                              \"ate\", \"nat\", \"bat\"])) == all([['eat', 'tea', 'ate'], ['tan', 'nat'], ['bat']])\n",
    "ipytest.run()"
   ]
  },
  {
   "cell_type": "code",
   "execution_count": null,
   "id": "2d3dbb57",
   "metadata": {},
   "outputs": [],
   "source": []
  },
  {
   "cell_type": "code",
   "execution_count": null,
   "id": "de458c13",
   "metadata": {},
   "outputs": [],
   "source": []
  }
 ],
 "metadata": {
  "kernelspec": {
   "display_name": "Python 3 (ipykernel)",
   "language": "python",
   "name": "python3"
  },
  "language_info": {
   "codemirror_mode": {
    "name": "ipython",
    "version": 3
   },
   "file_extension": ".py",
   "mimetype": "text/x-python",
   "name": "python",
   "nbconvert_exporter": "python",
   "pygments_lexer": "ipython3",
   "version": "3.11.5"
  }
 },
 "nbformat": 4,
 "nbformat_minor": 5
}
