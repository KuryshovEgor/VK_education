{
 "cells": [
  {
   "cell_type": "code",
   "execution_count": 1,
   "id": "ba56c303",
   "metadata": {},
   "outputs": [
    {
     "name": "stdout",
     "output_type": "stream",
     "text": [
      "\u001b[32m.\u001b[0m\u001b[32m                                                                                            [100%]\u001b[0m\n",
      "\u001b[32m\u001b[32m\u001b[1m1 passed\u001b[0m\u001b[32m in 0.01s\u001b[0m\u001b[0m\n"
     ]
    },
    {
     "data": {
      "text/plain": [
       "<ExitCode.OK: 0>"
      ]
     },
     "execution_count": 1,
     "metadata": {},
     "output_type": "execute_result"
    }
   ],
   "source": [
    "import numpy as np\n",
    "import ipytest\n",
    "ipytest.autoconfig()\n",
    "\n",
    "\n",
    "class Node:\n",
    "    def __init__ (self, data):\n",
    "        self.next = None\n",
    "        self.prev = None\n",
    "        self.data = data\n",
    "        \n",
    "class spisok:\n",
    "    def __init__ (self):\n",
    "        self.head = None\n",
    "        self.tail = None\n",
    "    def append (self, data):       #добавить в конец\n",
    "        new_node = Node(data)\n",
    "        if self.head == None: \n",
    "            self.head = new_node\n",
    "            self.tail = new_node\n",
    "            return\n",
    "        else:\n",
    "            self.tail.next = new_node\n",
    "            new_node.prev = self.tail\n",
    "            self.tail = new_node\n",
    "            return\n",
    "    def display(self):\n",
    "        current = self.head\n",
    "        if not current:\n",
    "            print(\"Список пуст.\")\n",
    "            return\n",
    "        sp = np.array ([])\n",
    "        while current:\n",
    "#            print(current.data)\n",
    "            sp = np.append(sp, current.data)\n",
    "            current = current.next\n",
    "        return sp\n",
    "    \n",
    "#проверить цикличность\n",
    "def hasCircle (head):\n",
    "    if head == None or head.next == None:\n",
    "        return False\n",
    "    slow = head\n",
    "    fast = head.next\n",
    "    i=0\n",
    "    while slow != fast:\n",
    "        if fast == None or fast.next == None:\n",
    "            return False\n",
    "        slow = slow.next\n",
    "        fast = fast.next.next\n",
    "    return True\n",
    "def test_hasCircle ():\n",
    "    t = spisok()\n",
    "    t.append(2)\n",
    "    t.append(3)\n",
    "    t.append(3)\n",
    "    t.append(3)\n",
    "    assert hasCircle(t.head) == False\n",
    "    \n",
    "ipytest.run()"
   ]
  },
  {
   "cell_type": "code",
   "execution_count": null,
   "id": "ed38c353",
   "metadata": {},
   "outputs": [],
   "source": []
  }
 ],
 "metadata": {
  "kernelspec": {
   "display_name": "Python 3 (ipykernel)",
   "language": "python",
   "name": "python3"
  },
  "language_info": {
   "codemirror_mode": {
    "name": "ipython",
    "version": 3
   },
   "file_extension": ".py",
   "mimetype": "text/x-python",
   "name": "python",
   "nbconvert_exporter": "python",
   "pygments_lexer": "ipython3",
   "version": "3.11.5"
  }
 },
 "nbformat": 4,
 "nbformat_minor": 5
}
