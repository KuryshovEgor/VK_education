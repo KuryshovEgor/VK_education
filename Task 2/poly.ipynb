{
 "cells": [
  {
   "cell_type": "code",
   "execution_count": null,
   "id": "1eb94a26",
   "metadata": {},
   "outputs": [],
   "source": [
    "import numpy as np\n",
    "import ipytest\n",
    "ipytest.autoconfig()\n",
    "\n",
    "#Полиндром\n",
    "def isPalindrome(s):\n",
    "    left = 0\n",
    "    right = len(s) - 1\n",
    "\n",
    "    while (left < right):\n",
    "        if (s[left] != s[right]):\n",
    "            return False\n",
    "        left+=1\n",
    "        right-=1\n",
    "\n",
    "    return True\n",
    "\n",
    "\n",
    "def test_isPalindrome():\n",
    "    s = \"abssba\"\n",
    "    assert isPalindrome(s) == True\n",
    "    \n",
    "ipytest.run()"
   ]
  }
 ],
 "metadata": {
  "kernelspec": {
   "display_name": "Python 3 (ipykernel)",
   "language": "python",
   "name": "python3"
  },
  "language_info": {
   "codemirror_mode": {
    "name": "ipython",
    "version": 3
   },
   "file_extension": ".py",
   "mimetype": "text/x-python",
   "name": "python",
   "nbconvert_exporter": "python",
   "pygments_lexer": "ipython3",
   "version": "3.11.5"
  }
 },
 "nbformat": 4,
 "nbformat_minor": 5
}
