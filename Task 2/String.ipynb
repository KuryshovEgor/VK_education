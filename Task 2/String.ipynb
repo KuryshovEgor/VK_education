{
 "cells": [
  {
   "cell_type": "code",
   "execution_count": 2,
   "id": "670a702c",
   "metadata": {},
   "outputs": [
    {
     "name": "stdout",
     "output_type": "stream",
     "text": [
      "\u001b[32m.\u001b[0m\u001b[32m                                                                                            [100%]\u001b[0m\n",
      "\u001b[32m\u001b[32m\u001b[1m1 passed\u001b[0m\u001b[32m in 0.00s\u001b[0m\u001b[0m\n"
     ]
    },
    {
     "data": {
      "text/plain": [
       "<ExitCode.OK: 0>"
      ]
     },
     "execution_count": 2,
     "metadata": {},
     "output_type": "execute_result"
    }
   ],
   "source": [
    "import numpy as np\n",
    "import ipytest\n",
    "ipytest.autoconfig()\n",
    "#односвязный список\n",
    "class Node:\n",
    "    def __init__ (self, data):\n",
    "        self.next = None\n",
    "        self.data = data\n",
    "        \n",
    "        \n",
    "\n",
    "#Является ли одна строка частью другой\n",
    "from queue import *\n",
    "def isSubsequence(a, b):\n",
    "    q = Queue()\n",
    "    for el in a:\n",
    "        q.put(el)\n",
    "       \n",
    "    for el in b:\n",
    "        if q.queue[0] == el:\n",
    "            q.get()\n",
    "            if q.empty():\n",
    "                break\n",
    "    return q.empty()\n",
    "\n",
    "\n",
    "def test_isSubsequence():\n",
    "    a = \"abs\"\n",
    "    b = \"abbss\"\n",
    "    assert isSubsequence(a, b) == True\n",
    "    \n",
    "ipytest.run()"
   ]
  },
  {
   "cell_type": "code",
   "execution_count": null,
   "id": "bb8939af",
   "metadata": {},
   "outputs": [],
   "source": []
  }
 ],
 "metadata": {
  "kernelspec": {
   "display_name": "Python 3 (ipykernel)",
   "language": "python",
   "name": "python3"
  },
  "language_info": {
   "codemirror_mode": {
    "name": "ipython",
    "version": 3
   },
   "file_extension": ".py",
   "mimetype": "text/x-python",
   "name": "python",
   "nbconvert_exporter": "python",
   "pygments_lexer": "ipython3",
   "version": "3.11.5"
  }
 },
 "nbformat": 4,
 "nbformat_minor": 5
}
