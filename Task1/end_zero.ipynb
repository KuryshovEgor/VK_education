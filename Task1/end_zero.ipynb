{
 "cells": [
  {
   "cell_type": "code",
   "execution_count": 1,
   "id": "bd99e185",
   "metadata": {},
   "outputs": [
    {
     "name": "stdout",
     "output_type": "stream",
     "text": [
      "\u001b[32m.\u001b[0m\u001b[32m                                                                                            [100%]\u001b[0m\n",
      "\u001b[32m\u001b[32m\u001b[1m1 passed\u001b[0m\u001b[32m in 0.01s\u001b[0m\u001b[0m\n"
     ]
    },
    {
     "data": {
      "text/plain": [
       "<ExitCode.OK: 0>"
      ]
     },
     "execution_count": 1,
     "metadata": {},
     "output_type": "execute_result"
    }
   ],
   "source": [
    "import numpy as np\n",
    "import ipytest\n",
    "ipytest.autoconfig()\n",
    "def end_zero (A):\n",
    "    slow = 0\n",
    "    fast = 1\n",
    "    while (fast < len(A)):\n",
    "        if A[slow] != 0:\n",
    "            slow += 1\n",
    "            fast += 1\n",
    "        elif A[fast] == 0:\n",
    "            fast += 1\n",
    "        else:\n",
    "            A[[slow, fast]] = A[[fast, slow]]\n",
    "    return A\n",
    "def test_end_zero ():\n",
    "    A = np.array ([1, 0, 0, 0, 2, 3, 5, 0, 7])\n",
    "    assert all(end_zero(A)) == all([1, 2, 3, 5, 7, 0, 0, 0, 0])\n",
    "ipytest.run()"
   ]
  },
  {
   "cell_type": "code",
   "execution_count": null,
   "id": "3312c073",
   "metadata": {},
   "outputs": [],
   "source": []
  }
 ],
 "metadata": {
  "kernelspec": {
   "display_name": "Python 3 (ipykernel)",
   "language": "python",
   "name": "python3"
  },
  "language_info": {
   "codemirror_mode": {
    "name": "ipython",
    "version": 3
   },
   "file_extension": ".py",
   "mimetype": "text/x-python",
   "name": "python",
   "nbconvert_exporter": "python",
   "pygments_lexer": "ipython3",
   "version": "3.11.5"
  }
 },
 "nbformat": 4,
 "nbformat_minor": 5
}
