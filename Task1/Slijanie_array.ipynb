{
 "cells": [
  {
   "cell_type": "code",
   "execution_count": null,
   "id": "9cbd979e",
   "metadata": {},
   "outputs": [],
   "source": [
    "import numpy as np\n",
    "import ipytest\n",
    "ipytest.autoconfig()\n",
    "#Слияние двух отсортированных массивов\n",
    "def merge (A, B):\n",
    "    pointer1 = len(A) - 1\n",
    "    pointer2 = len(A) - len(B) - 1\n",
    "    pointer3 = len(B) - 1\n",
    "    while pointer3 >= 0:\n",
    "        if pointer2 >= 0 and A[pointer2] > B[pointer3]:\n",
    "            A[pointer1] = A[pointer2]\n",
    "            pointer2 += -1\n",
    "        else:\n",
    "            A[pointer1] = B[pointer3]\n",
    "            pointer3 += -1\n",
    "        pointer1 += -1\n",
    "    return A\n",
    "\n",
    "def test_merge ():\n",
    "    A = np.array([1, 2, 3, 6, 0, 0, 0, 0, 0])\n",
    "    B = np.array([1, 3, 4, 5, 7])\n",
    "    assert all(merge(A, B)) == all(([1, 1, 2, 3, 3, 4, 5, 6, 7]))\n",
    "    \n",
    "ipytest.run()"
   ]
  }
 ],
 "metadata": {
  "kernelspec": {
   "display_name": "Python 3 (ipykernel)",
   "language": "python",
   "name": "python3"
  },
  "language_info": {
   "codemirror_mode": {
    "name": "ipython",
    "version": 3
   },
   "file_extension": ".py",
   "mimetype": "text/x-python",
   "name": "python",
   "nbconvert_exporter": "python",
   "pygments_lexer": "ipython3",
   "version": "3.11.5"
  }
 },
 "nbformat": 4,
 "nbformat_minor": 5
}
