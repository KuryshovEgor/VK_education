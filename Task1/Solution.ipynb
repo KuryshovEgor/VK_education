{
 "cells": [
  {
   "cell_type": "code",
   "execution_count": 1,
   "id": "87274509",
   "metadata": {},
   "outputs": [
    {
     "name": "stdout",
     "output_type": "stream",
     "text": [
      "\u001b[32m.\u001b[0m\u001b[32m                                                                                            [100%]\u001b[0m\n",
      "\u001b[32m\u001b[32m\u001b[1m1 passed\u001b[0m\u001b[32m in 0.01s\u001b[0m\u001b[0m\n"
     ]
    },
    {
     "data": {
      "text/plain": [
       "<ExitCode.OK: 0>"
      ]
     },
     "execution_count": 1,
     "metadata": {},
     "output_type": "execute_result"
    }
   ],
   "source": [
    "import numpy as np\n",
    "import ipytest\n",
    "ipytest.autoconfig()\n",
    "#Развернуть часть массива\n",
    "def reversearray (A, left, right):\n",
    "    while left < right:\n",
    "        A[[left, right]] = A[[right, left]]\n",
    "        left += 1\n",
    "        right += -1\n",
    "    return A\n",
    "\n",
    "def solution (A, k):\n",
    "    n = len(A)\n",
    "    A = reversearray (A, 0, n-1)\n",
    "    A = reversearray (A, k%n, n-1)\n",
    "    A = reversearray (A, 0, k%n - 1)\n",
    "    return A\n",
    "\n",
    "def test_solution ():\n",
    "    A = np.array ([1, 2, 3, 4, 5, 6, 7])\n",
    "    assert all(solution (A, 3)) == all(([5, 6, 7, 1, 2, 3, 4]))\n",
    "\n",
    "ipytest.run()"
   ]
  },
  {
   "cell_type": "code",
   "execution_count": null,
   "id": "1685a840",
   "metadata": {},
   "outputs": [],
   "source": []
  }
 ],
 "metadata": {
  "kernelspec": {
   "display_name": "Python 3 (ipykernel)",
   "language": "python",
   "name": "python3"
  },
  "language_info": {
   "codemirror_mode": {
    "name": "ipython",
    "version": 3
   },
   "file_extension": ".py",
   "mimetype": "text/x-python",
   "name": "python",
   "nbconvert_exporter": "python",
   "pygments_lexer": "ipython3",
   "version": "3.11.5"
  }
 },
 "nbformat": 4,
 "nbformat_minor": 5
}
