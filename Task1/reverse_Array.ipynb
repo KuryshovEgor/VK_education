{
 "cells": [
  {
   "cell_type": "code",
   "execution_count": 1,
   "id": "c6af83ec",
   "metadata": {},
   "outputs": [
    {
     "name": "stdout",
     "output_type": "stream",
     "text": [
      "\u001b[32m.\u001b[0m\u001b[32m                                                                                            [100%]\u001b[0m\n",
      "\u001b[32m\u001b[32m\u001b[1m1 passed\u001b[0m\u001b[32m in 0.01s\u001b[0m\u001b[0m\n"
     ]
    },
    {
     "data": {
      "text/plain": [
       "<ExitCode.OK: 0>"
      ]
     },
     "execution_count": 1,
     "metadata": {},
     "output_type": "execute_result"
    }
   ],
   "source": [
    "import numpy as np\n",
    "import ipytest\n",
    "ipytest.autoconfig()\n",
    "# Развернуть массив\n",
    "def reverseArray (A):\n",
    "    left = 0\n",
    "    right = len(A) - 1\n",
    "    while left < right:\n",
    "        A[[left, right]] = A[[right, left]]\n",
    "        left += 1\n",
    "        right += -1\n",
    "    return A\n",
    "\n",
    "def test_reverseArray():\n",
    "    A = np.array ([1, 2, 3, 4])\n",
    "    assert all(reverseArray(A)) == all(([4, 3, 2, 1]))\n",
    "    \n",
    "ipytest.run()"
   ]
  },
  {
   "cell_type": "code",
   "execution_count": null,
   "id": "a9557787",
   "metadata": {},
   "outputs": [],
   "source": []
  }
 ],
 "metadata": {
  "kernelspec": {
   "display_name": "Python 3 (ipykernel)",
   "language": "python",
   "name": "python3"
  },
  "language_info": {
   "codemirror_mode": {
    "name": "ipython",
    "version": 3
   },
   "file_extension": ".py",
   "mimetype": "text/x-python",
   "name": "python",
   "nbconvert_exporter": "python",
   "pygments_lexer": "ipython3",
   "version": "3.11.5"
  }
 },
 "nbformat": 4,
 "nbformat_minor": 5
}
