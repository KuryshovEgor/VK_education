{
 "cells": [
  {
   "cell_type": "code",
   "execution_count": 1,
   "id": "db797864",
   "metadata": {},
   "outputs": [
    {
     "name": "stdout",
     "output_type": "stream",
     "text": [
      "\u001b[32m.\u001b[0m\u001b[32m                                                                                            [100%]\u001b[0m\n",
      "\u001b[32m\u001b[32m\u001b[1m1 passed\u001b[0m\u001b[32m in 0.01s\u001b[0m\u001b[0m\n"
     ]
    },
    {
     "data": {
      "text/plain": [
       "<ExitCode.OK: 0>"
      ]
     },
     "execution_count": 1,
     "metadata": {},
     "output_type": "execute_result"
    }
   ],
   "source": [
    "import numpy as np\n",
    "import ipytest\n",
    "ipytest.autoconfig()\n",
    "#Флаг Нидерландов\n",
    "def sortColors (A):\n",
    "    l = 0\n",
    "    m = 0\n",
    "    h = len(A) - 1\n",
    "    while h>=m:\n",
    "        if A[m] == 0:\n",
    "            A[[l, m]] = A[[m, l]]\n",
    "            l += 1\n",
    "            m += 1\n",
    "        elif A[m] == 1:\n",
    "            m += 1\n",
    "        else:\n",
    "            A[[h, m]] = A[[m, h]]\n",
    "            h += -1\n",
    "    return A\n",
    "\n",
    "A = np.array ([1, 2, 0, 0, 1, 0])\n",
    "sortColors(A)\n",
    "def test_merge ():\n",
    "    A = np.array ([1, 2, 0, 0, 1, 0])\n",
    "    assert all(sortColors(A)) == all(([0, 0, 0, 1, 1, 2]))\n",
    "    \n",
    "\n",
    "ipytest.run()"
   ]
  },
  {
   "cell_type": "code",
   "execution_count": null,
   "id": "0425f40d",
   "metadata": {},
   "outputs": [],
   "source": []
  }
 ],
 "metadata": {
  "kernelspec": {
   "display_name": "Python 3 (ipykernel)",
   "language": "python",
   "name": "python3"
  },
  "language_info": {
   "codemirror_mode": {
    "name": "ipython",
    "version": 3
   },
   "file_extension": ".py",
   "mimetype": "text/x-python",
   "name": "python",
   "nbconvert_exporter": "python",
   "pygments_lexer": "ipython3",
   "version": "3.11.5"
  }
 },
 "nbformat": 4,
 "nbformat_minor": 5
}
