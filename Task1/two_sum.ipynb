{
 "cells": [
  {
   "cell_type": "code",
   "execution_count": 1,
   "id": "50be7a2a",
   "metadata": {},
   "outputs": [
    {
     "name": "stdout",
     "output_type": "stream",
     "text": [
      "\u001b[32m.\u001b[0m\u001b[32m                                                                                            [100%]\u001b[0m\n",
      "\u001b[32m\u001b[32m\u001b[1m1 passed\u001b[0m\u001b[32m in 0.01s\u001b[0m\u001b[0m\n"
     ]
    },
    {
     "data": {
      "text/plain": [
       "<ExitCode.OK: 0>"
      ]
     },
     "execution_count": 1,
     "metadata": {},
     "output_type": "execute_result"
    }
   ],
   "source": [
    "import numpy as np\n",
    "import ipytest\n",
    "ipytest.autoconfig()\n",
    "# two sum\n",
    "def two_sum (A, target):\n",
    "    left = 0\n",
    "    right = len(A) - 1\n",
    "    x = np.array([])\n",
    "    while left < right:\n",
    "        if target == A[left] + A[right]:\n",
    "            x = np.append(x, [left, right])\n",
    "            if target == A[left+1] + A[right] and left+1 != right:\n",
    "                x = np.append(x, [left+1, right])\n",
    "            if target == A[left] + A[right-1] and left != right-1:\n",
    "                x = np.append(x, [left, right-1])\n",
    "            left += 1\n",
    "            right += -1\n",
    "        elif target > A[left] + A[right]:\n",
    "            left += 1\n",
    "        else:\n",
    "            right += -1\n",
    "    return x\n",
    "def test_two_sum ():\n",
    "    A = np.array([1, 2, 3, 3, 4, 5, 6])\n",
    "    S = 7\n",
    "    Answ = ([0., 6., 1., 5., 2., 4., 3., 4.])\n",
    "    assert all(two_sum(A, S)) == all(Answ)\n",
    "\n",
    "    ipytest.run()"
   ]
  },
  {
   "cell_type": "code",
   "execution_count": null,
   "id": "71d93b34",
   "metadata": {},
   "outputs": [],
   "source": []
  }
 ],
 "metadata": {
  "kernelspec": {
   "display_name": "Python 3 (ipykernel)",
   "language": "python",
   "name": "python3"
  },
  "language_info": {
   "codemirror_mode": {
    "name": "ipython",
    "version": 3
   },
   "file_extension": ".py",
   "mimetype": "text/x-python",
   "name": "python",
   "nbconvert_exporter": "python",
   "pygments_lexer": "ipython3",
   "version": "3.11.5"
  }
 },
 "nbformat": 4,
 "nbformat_minor": 5
}
