{
 "cells": [
  {
   "cell_type": "code",
   "execution_count": 5,
   "id": "0608e5ee",
   "metadata": {},
   "outputs": [
    {
     "name": "stdout",
     "output_type": "stream",
     "text": [
      "\u001b[32m.\u001b[0m\u001b[32m                                                                                            [100%]\u001b[0m\n",
      "\u001b[32m\u001b[32m\u001b[1m1 passed\u001b[0m\u001b[32m in 0.00s\u001b[0m\u001b[0m\n"
     ]
    },
    {
     "data": {
      "text/plain": [
       "<ExitCode.OK: 0>"
      ]
     },
     "execution_count": 5,
     "metadata": {},
     "output_type": "execute_result"
    }
   ],
   "source": [
    "import numpy as np\n",
    "import ipytest\n",
    "ipytest.autoconfig()\n",
    "\n",
    "\n",
    "def sort_binary_array(arr):\n",
    "    left = 0\n",
    "    right = len(arr) - 1\n",
    "    while (left < right) :\n",
    "        if arr[left] == 0:\n",
    "            left+=1\n",
    "        elif arr[right] == 1:\n",
    "            right-=1\n",
    "        else:\n",
    "            arr[[left, right]] = arr[[right, left]]\n",
    "            left+=1\n",
    "            right-=1\n",
    "\n",
    "    return arr\n",
    "\n",
    "    \n",
    "def test_sort_binary_array():\n",
    "    A = np.array ([1, 0, 0, 1])\n",
    "    assert all(sort_binary_array(A)) == all(([0, 0, 1, 1]))\n",
    "    \n",
    "ipytest.run()"
   ]
  },
  {
   "cell_type": "code",
   "execution_count": null,
   "id": "c4cce6e6",
   "metadata": {},
   "outputs": [],
   "source": []
  }
 ],
 "metadata": {
  "kernelspec": {
   "display_name": "Python 3 (ipykernel)",
   "language": "python",
   "name": "python3"
  },
  "language_info": {
   "codemirror_mode": {
    "name": "ipython",
    "version": 3
   },
   "file_extension": ".py",
   "mimetype": "text/x-python",
   "name": "python",
   "nbconvert_exporter": "python",
   "pygments_lexer": "ipython3",
   "version": "3.11.5"
  }
 },
 "nbformat": 4,
 "nbformat_minor": 5
}
