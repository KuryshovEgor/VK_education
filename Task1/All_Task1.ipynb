{
 "cells": [
  {
   "cell_type": "code",
   "execution_count": 1,
   "id": "41117a66",
   "metadata": {},
   "outputs": [],
   "source": [
    "import numpy as np\n",
    "import ipytest\n",
    "ipytest.autoconfig()"
   ]
  },
  {
   "cell_type": "code",
   "execution_count": 2,
   "id": "5d2e1158",
   "metadata": {},
   "outputs": [],
   "source": [
    "#сумма всех чисел\n",
    "def summation (A):\n",
    "    begin = 0\n",
    "    end = len(A) - 1\n",
    "    S = 0\n",
    "    while begin<=end:\n",
    "        if begin != end:\n",
    "            S = S + A[begin] + A[end]\n",
    "            begin += 1\n",
    "            end += -1\n",
    "        else:\n",
    "            S += A[begin]\n",
    "            begin += 1\n",
    "    return S"
   ]
  },
  {
   "cell_type": "code",
   "execution_count": 3,
   "id": "f5d36d74",
   "metadata": {},
   "outputs": [],
   "source": [
    "def test_summation ():\n",
    "    A = np.linspace (0, 10, 11)\n",
    "    assert summation (A) == 55\n"
   ]
  },
  {
   "cell_type": "code",
   "execution_count": 4,
   "id": "1353ebfe",
   "metadata": {},
   "outputs": [],
   "source": [
    "# two sum\n",
    "def two_sum (A, target):\n",
    "    left = 0\n",
    "    right = len(A) - 1\n",
    "    x = np.array([])\n",
    "    while left < right:\n",
    "        if target == A[left] + A[right]:\n",
    "            x = np.append(x, [left, right])\n",
    "            if target == A[left+1] + A[right] and left+1 != right:\n",
    "                x = np.append(x, [left+1, right])\n",
    "            if target == A[left] + A[right-1] and left != right-1:\n",
    "                x = np.append(x, [left, right-1])\n",
    "            left += 1\n",
    "            right += -1\n",
    "        elif target > A[left] + A[right]:\n",
    "            left += 1\n",
    "        else:\n",
    "            right += -1\n",
    "    return x"
   ]
  },
  {
   "cell_type": "code",
   "execution_count": 5,
   "id": "983611f8",
   "metadata": {},
   "outputs": [],
   "source": [
    "def test_two_sum ():\n",
    "    A = np.array([1, 2, 3, 3, 4, 5, 6])\n",
    "    S = 7\n",
    "    Answ = ([0., 6., 1., 5., 2., 4., 3., 4.])\n",
    "    assert all(two_sum(A, S)) == all(Answ)"
   ]
  },
  {
   "cell_type": "code",
   "execution_count": 6,
   "id": "14a06a0d",
   "metadata": {},
   "outputs": [],
   "source": [
    "# Развернуть массив\n",
    "def reverseArray (A):\n",
    "    left = 0\n",
    "    right = len(A) - 1\n",
    "    while left < right:\n",
    "        A[[left, right]] = A[[right, left]]\n",
    "        left += 1\n",
    "        right += -1\n",
    "    return A"
   ]
  },
  {
   "cell_type": "code",
   "execution_count": 7,
   "id": "6492ad1a",
   "metadata": {},
   "outputs": [],
   "source": [
    "def test_reverseArray():\n",
    "    A = np.array ([1, 2, 3, 4])\n",
    "    assert all(reverseArray(A)) == all(([4, 3, 2, 1]))"
   ]
  },
  {
   "cell_type": "code",
   "execution_count": 8,
   "id": "13ae66db",
   "metadata": {},
   "outputs": [],
   "source": [
    "#Развернуть часть массива\n",
    "def reversearray (A, left, right):\n",
    "    while left < right:\n",
    "        A[[left, right]] = A[[right, left]]\n",
    "        left += 1\n",
    "        right += -1\n",
    "    return A\n",
    "\n",
    "def solution (A, k):\n",
    "    n = len(A)\n",
    "    A = reversearray (A, 0, n-1)\n",
    "    A = reversearray (A, k%n, n-1)\n",
    "    A = reversearray (A, 0, k%n - 1)\n",
    "    return A"
   ]
  },
  {
   "cell_type": "code",
   "execution_count": 9,
   "id": "7a71ed68",
   "metadata": {},
   "outputs": [],
   "source": [
    "def test_solution ():\n",
    "    A = np.array ([1, 2, 3, 4, 5, 6, 7])\n",
    "    assert all(solution (A, 3)) == all(([5, 6, 7, 1, 2, 3, 4]))"
   ]
  },
  {
   "cell_type": "code",
   "execution_count": 10,
   "id": "9ddbd956",
   "metadata": {},
   "outputs": [],
   "source": [
    "#дз нули в конце\n",
    "def end_zero (A):\n",
    "    slow = 0\n",
    "    fast = 1\n",
    "    while (fast < len(A)):\n",
    "        if A[slow] != 0:\n",
    "            slow += 1\n",
    "            fast += 1\n",
    "        elif A[fast] == 0:\n",
    "            fast += 1\n",
    "        else:\n",
    "            A[[slow, fast]] = A[[fast, slow]]\n",
    "    return A"
   ]
  },
  {
   "cell_type": "code",
   "execution_count": 11,
   "id": "b8baaea6",
   "metadata": {},
   "outputs": [],
   "source": [
    "def test_end_zero ():\n",
    "    A = np.array ([1, 0, 0, 0, 2, 3, 5, 0, 7])\n",
    "    assert all(end_zero(A)) == all([1, 2, 3, 5, 7, 0, 0, 0, 0])"
   ]
  },
  {
   "cell_type": "code",
   "execution_count": 12,
   "id": "c34edca6",
   "metadata": {},
   "outputs": [],
   "source": [
    "#Слияние двух отсортированных массивов\n",
    "def merge (A, B):\n",
    "    pointer1 = len(A) - 1\n",
    "    pointer2 = len(A) - len(B) - 1\n",
    "    pointer3 = len(B) - 1\n",
    "    while pointer3 >= 0:\n",
    "        if pointer2 >= 0 and A[pointer2] > B[pointer3]:\n",
    "            A[pointer1] = A[pointer2]\n",
    "            pointer2 += -1\n",
    "        else:\n",
    "            A[pointer1] = B[pointer3]\n",
    "            pointer3 += -1\n",
    "        pointer1 += -1\n",
    "    return A"
   ]
  },
  {
   "cell_type": "code",
   "execution_count": 13,
   "id": "54333636",
   "metadata": {},
   "outputs": [],
   "source": [
    "def test_merge ():\n",
    "    A = np.array([1, 2, 3, 6, 0, 0, 0, 0, 0])\n",
    "    B = np.array([1, 3, 4, 5, 7])\n",
    "    assert all(merge(A, B)) == all(([1, 1, 2, 3, 3, 4, 5, 6, 7]))"
   ]
  },
  {
   "cell_type": "code",
   "execution_count": 14,
   "id": "5aa0e42e",
   "metadata": {},
   "outputs": [],
   "source": [
    "#Флаг Нидерландов\n",
    "def sortColors (A):\n",
    "    l = 0\n",
    "    m = 0\n",
    "    h = len(A) - 1\n",
    "    while h>=m:\n",
    "        if A[m] == 0:\n",
    "            A[[l, m]] = A[[m, l]]\n",
    "            l += 1\n",
    "            m += 1\n",
    "        elif A[m] == 1:\n",
    "            m += 1\n",
    "        else:\n",
    "            A[[h, m]] = A[[m, h]]\n",
    "            h += -1\n",
    "    return A"
   ]
  },
  {
   "cell_type": "code",
   "execution_count": 15,
   "id": "ac0b3765",
   "metadata": {},
   "outputs": [],
   "source": [
    "A = np.array ([1, 2, 0, 0, 1, 0])\n",
    "sortColors(A)\n",
    "def test_merge ():\n",
    "    A = np.array ([1, 2, 0, 0, 1, 0])\n",
    "    assert all(sortColors(A)) == all(([0, 0, 0, 1, 1, 2]))"
   ]
  },
  {
   "cell_type": "code",
   "execution_count": 16,
   "id": "4d5c4cbf",
   "metadata": {},
   "outputs": [
    {
     "name": "stdout",
     "output_type": "stream",
     "text": [
      "\u001b[32m.\u001b[0m\u001b[32m.\u001b[0m\u001b[32m.\u001b[0m\u001b[32m.\u001b[0m\u001b[32m.\u001b[0m\u001b[32m.\u001b[0m\u001b[32m                                                                                       [100%]\u001b[0m\n",
      "\u001b[32m\u001b[32m\u001b[1m6 passed\u001b[0m\u001b[32m in 0.03s\u001b[0m\u001b[0m\n"
     ]
    },
    {
     "data": {
      "text/plain": [
       "<ExitCode.OK: 0>"
      ]
     },
     "execution_count": 16,
     "metadata": {},
     "output_type": "execute_result"
    }
   ],
   "source": [
    "ipytest.run()"
   ]
  },
  {
   "cell_type": "code",
   "execution_count": null,
   "id": "dc7048b4",
   "metadata": {},
   "outputs": [],
   "source": []
  },
  {
   "cell_type": "code",
   "execution_count": null,
   "id": "f423f737",
   "metadata": {},
   "outputs": [],
   "source": []
  },
  {
   "cell_type": "code",
   "execution_count": null,
   "id": "1b860075",
   "metadata": {},
   "outputs": [],
   "source": []
  }
 ],
 "metadata": {
  "kernelspec": {
   "display_name": "Python 3 (ipykernel)",
   "language": "python",
   "name": "python3"
  },
  "language_info": {
   "codemirror_mode": {
    "name": "ipython",
    "version": 3
   },
   "file_extension": ".py",
   "mimetype": "text/x-python",
   "name": "python",
   "nbconvert_exporter": "python",
   "pygments_lexer": "ipython3",
   "version": "3.11.5"
  }
 },
 "nbformat": 4,
 "nbformat_minor": 5
}
