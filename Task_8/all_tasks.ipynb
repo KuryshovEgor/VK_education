{
 "cells": [
  {
   "cell_type": "code",
   "execution_count": 1,
   "id": "7347041c",
   "metadata": {},
   "outputs": [],
   "source": [
    "import ipytest\n",
    "ipytest.autoconfig()"
   ]
  },
  {
   "cell_type": "code",
   "execution_count": 9,
   "id": "43a9c187",
   "metadata": {},
   "outputs": [
    {
     "name": "stdout",
     "output_type": "stream",
     "text": [
      "\u001b[32m.\u001b[0m\u001b[32m                                                                                            [100%]\u001b[0m\n",
      "\u001b[32m\u001b[32m\u001b[1m1 passed\u001b[0m\u001b[32m in 0.01s\u001b[0m\u001b[0m\n"
     ]
    },
    {
     "data": {
      "text/plain": [
       "<ExitCode.OK: 0>"
      ]
     },
     "execution_count": 9,
     "metadata": {},
     "output_type": "execute_result"
    }
   ],
   "source": [
    "#макс сумма\n",
    "def max_subarray_sum(arr, k):\n",
    "    if len(arr) < k or k <= 0:\n",
    "        return None\n",
    "    \n",
    "    current_sum = sum(arr[:k])\n",
    "    max_sum = current_sum\n",
    "    \n",
    "    for i in range(k, len(arr)):\n",
    "        current_sum = current_sum - arr[i - k] + arr[i]\n",
    "        max_sum = max(max_sum, current_sum)\n",
    "    \n",
    "    return max_sum\n",
    "\n",
    "\n",
    "def test_max_subarray_sumt ():\n",
    "    t = 9\n",
    "    assert max_subarray_sum([1, 2, 3, 1, 2, 0, 0, 4], 3) == 6\n",
    "ipytest.run()"
   ]
  },
  {
   "cell_type": "code",
   "execution_count": 13,
   "id": "1ca7a913",
   "metadata": {},
   "outputs": [
    {
     "name": "stdout",
     "output_type": "stream",
     "text": [
      "\u001b[32m.\u001b[0m\u001b[32m.\u001b[0m\u001b[32m                                                                                           [100%]\u001b[0m\n",
      "\u001b[32m\u001b[32m\u001b[1m2 passed\u001b[0m\u001b[32m in 0.01s\u001b[0m\u001b[0m\n"
     ]
    },
    {
     "data": {
      "text/plain": [
       "<ExitCode.OK: 0>"
      ]
     },
     "execution_count": 13,
     "metadata": {},
     "output_type": "execute_result"
    }
   ],
   "source": [
    "#сумма подмассивов\n",
    "from collections import defaultdict\n",
    "\n",
    "def subarray_sum(nums, k):\n",
    "    prefix_sum = 0\n",
    "    prefix_count = defaultdict(int)\n",
    "    prefix_count[0] = 1\n",
    "    count = 0\n",
    "    \n",
    "    for num in nums:\n",
    "        prefix_sum += num\n",
    "        if (prefix_sum - k) in prefix_count:\n",
    "            count += prefix_count[prefix_sum - k]\n",
    "        prefix_count[prefix_sum] += 1   \n",
    "    return count\n",
    "\n",
    "def test_subarray_sum ():\n",
    "    t = 9\n",
    "    assert subarray_sum([1, 2, 3, 1, 2, 5, 0, 4], 3) == 3\n",
    "ipytest.run()"
   ]
  },
  {
   "cell_type": "code",
   "execution_count": 18,
   "id": "8487b1e5",
   "metadata": {},
   "outputs": [
    {
     "name": "stdout",
     "output_type": "stream",
     "text": [
      "\u001b[32m.\u001b[0m\u001b[32m.\u001b[0m\u001b[32m.\u001b[0m\u001b[32m                                                                                          [100%]\u001b[0m\n",
      "\u001b[32m\u001b[32m\u001b[1m3 passed\u001b[0m\u001b[32m in 0.01s\u001b[0m\u001b[0m\n"
     ]
    },
    {
     "data": {
      "text/plain": [
       "<ExitCode.OK: 0>"
      ]
     },
     "execution_count": 18,
     "metadata": {},
     "output_type": "execute_result"
    }
   ],
   "source": [
    "#индекс поворота\n",
    "def pivot_index(nums):\n",
    "    total_sum = sum(nums)\n",
    "    left_sum = 0\n",
    "    \n",
    "    for i in range(len(nums)):\n",
    "        if left_sum == total_sum - left_sum - nums[i]:\n",
    "            return i\n",
    "        left_sum += nums[i]\n",
    "    \n",
    "    return -1\n",
    "\n",
    "def test_pivot_index ():\n",
    "    t = 9\n",
    "    assert pivot_index([9, 4, 8, 7, 1, 11, 2, 6, 1]) == 3\n",
    "ipytest.run()"
   ]
  },
  {
   "cell_type": "code",
   "execution_count": 10,
   "id": "a594feaf",
   "metadata": {},
   "outputs": [],
   "source": [
    "#баланс скобок\n",
    "def can_make_valid_with_deletions(s: str, k: int) -> bool:\n",
    "    balance = 0\n",
    "    extra_closed = 0  \n",
    "    \n",
    "    for char in s:\n",
    "        if char == '(':\n",
    "            balance += 1\n",
    "        else:\n",
    "            if balance > 0:\n",
    "                balance -= 1\n",
    "            else:\n",
    "                extra_closed += 1\n",
    "    \n",
    "    total_deletions_needed = balance + extra_closed\n",
    "    return total_deletions_needed <= k"
   ]
  },
  {
   "cell_type": "code",
   "execution_count": null,
   "id": "ce4d11c3",
   "metadata": {},
   "outputs": [],
   "source": []
  }
 ],
 "metadata": {
  "kernelspec": {
   "display_name": "Python 3 (ipykernel)",
   "language": "python",
   "name": "python3"
  },
  "language_info": {
   "codemirror_mode": {
    "name": "ipython",
    "version": 3
   },
   "file_extension": ".py",
   "mimetype": "text/x-python",
   "name": "python",
   "nbconvert_exporter": "python",
   "pygments_lexer": "ipython3",
   "version": "3.11.5"
  }
 },
 "nbformat": 4,
 "nbformat_minor": 5
}
