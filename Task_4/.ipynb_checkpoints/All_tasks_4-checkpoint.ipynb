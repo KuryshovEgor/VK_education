{
 "cells": [
  {
   "cell_type": "code",
   "execution_count": 1,
   "id": "f2258944",
   "metadata": {},
   "outputs": [],
   "source": [
    "import numpy as np\n",
    "import ipytest\n",
    "ipytest.autoconfig()"
   ]
  },
  {
   "cell_type": "code",
   "execution_count": 9,
   "id": "7ea502fd",
   "metadata": {},
   "outputs": [],
   "source": [
    "class TreeNode:\n",
    "    def __init__(self, val = 0, left = None, right = None):\n",
    "        self.val = val\n",
    "        self.left = left\n",
    "        self.right = right\n",
    "\n",
    "def buildTree(arr, i): \n",
    "    if i >= len(arr):\n",
    "         return null\n",
    " \n",
    "    root = TreeNode(arr[i])\n",
    "    root.left = buildTree(arr, 2 * i + 1)\n",
    "    root.right = buildTree(arr, 2 * i + 2)\n",
    "    return root\n"
   ]
  },
  {
   "cell_type": "code",
   "execution_count": 15,
   "id": "54df02e0",
   "metadata": {},
   "outputs": [
    {
     "name": "stdout",
     "output_type": "stream",
     "text": [
      "\u001b[32m.\u001b[0m\u001b[32m                                                                                            [100%]\u001b[0m\n",
      "\u001b[32m\u001b[32m\u001b[1m1 passed\u001b[0m\u001b[32m in 0.00s\u001b[0m\u001b[0m\n"
     ]
    },
    {
     "data": {
      "text/plain": [
       "<ExitCode.OK: 0>"
      ]
     },
     "execution_count": 15,
     "metadata": {},
     "output_type": "execute_result"
    }
   ],
   "source": [
    "from collections import deque\n",
    "\n",
    "def isSymmetric(root):\n",
    "    if root is None:\n",
    "        return True\n",
    "    \n",
    "    queue = deque([root])\n",
    "    \n",
    "    while queue:\n",
    "        level_size = len(queue)\n",
    "        # Проверяем симметричность текущего уровня\n",
    "        for i in range(level_size // 2):\n",
    "            left = queue[i]\n",
    "            right = queue[level_size - 1 - i]\n",
    "            \n",
    "            if left is None and right is None:\n",
    "                continue\n",
    "            if left is None or right is None:\n",
    "                return False\n",
    "            if left.val != right.val:\n",
    "                return False\n",
    "        \n",
    "        # Добавляем узлы следующего уровня\n",
    "        for i in range(level_size):\n",
    "            node = queue.popleft()\n",
    "            if node:\n",
    "                queue.append(node.left)\n",
    "                queue.append(node.right)\n",
    "    \n",
    "    return True\n",
    "\n",
    "def test_isSymmetric ():\n",
    "    root = TreeNode(1)\n",
    "    root.left = TreeNode(2)\n",
    "    root.right = TreeNode(2)\n",
    "    root.left.left = TreeNode(3)\n",
    "    root.left.right = TreeNode(4)\n",
    "    root.right.left = TreeNode(4)\n",
    "    root.right.right = TreeNode(3)\n",
    "    assert isSymmetric(root) == True\n",
    "ipytest.run()\n"
   ]
  },
  {
   "cell_type": "code",
   "execution_count": 17,
   "id": "bee1aefc",
   "metadata": {},
   "outputs": [
    {
     "name": "stdout",
     "output_type": "stream",
     "text": [
      "\u001b[32m.\u001b[0m\u001b[32m.\u001b[0m\u001b[32m                                                                                           [100%]\u001b[0m\n",
      "\u001b[32m\u001b[32m\u001b[1m2 passed\u001b[0m\u001b[32m in 0.00s\u001b[0m\u001b[0m\n"
     ]
    },
    {
     "data": {
      "text/plain": [
       "<ExitCode.OK: 0>"
      ]
     },
     "execution_count": 17,
     "metadata": {},
     "output_type": "execute_result"
    }
   ],
   "source": [
    "def minDepth(root):\n",
    "    if root is None:\n",
    "        return 0\n",
    "    if root.left is None and root.right is None:\n",
    "        return 1\n",
    "    if root.left is not None and root.right is not None:\n",
    "        return 1 + min(minDepth(root.left), minDepth(root.right))\n",
    "    if root.left is not None:\n",
    "        return 1 + minDepth(root.left)\n",
    "    if root.right is not None:\n",
    "        return 1 + minDepth(root.right)\n",
    "    \n",
    "def test_minDepth ():\n",
    "    root = TreeNode(1)\n",
    "    root.left = TreeNode(2)\n",
    "    root.right = TreeNode(3)\n",
    "    root.left.left = TreeNode(4)\n",
    "    assert minDepth(root) == 2\n",
    "ipytest.run()"
   ]
  },
  {
   "cell_type": "code",
   "execution_count": 23,
   "id": "ce3091e5",
   "metadata": {},
   "outputs": [],
   "source": [
    "def max_min_multiplication(data):\n",
    "    if len(data) < 3:\n",
    "        return -1\n",
    "    min_index = 1\n",
    "    i = 1\n",
    "    while i < len(data):\n",
    "        if data[i] < data[min_index]:\n",
    "            min_index = i\n",
    "        i = 2 * i + 1\n",
    "    max_index = 2\n",
    "    i = 2\n",
    "    while i < len(data):\n",
    "        if data[i] > data[max_index]:\n",
    "            max_index = i\n",
    "        i = 2 * i + 2\n",
    "    \n",
    "    return data[min_index] * data[max_index]\n",
    "\n"
   ]
  },
  {
   "cell_type": "code",
   "execution_count": 27,
   "id": "e3d50ffd",
   "metadata": {},
   "outputs": [
    {
     "name": "stdout",
     "output_type": "stream",
     "text": [
      "\u001b[32m.\u001b[0m\u001b[32m.\u001b[0m\u001b[32m.\u001b[0m\u001b[32m                                                                                          [100%]\u001b[0m\n",
      "\u001b[32m\u001b[32m\u001b[1m3 passed\u001b[0m\u001b[32m in 0.01s\u001b[0m\u001b[0m\n"
     ]
    },
    {
     "data": {
      "text/plain": [
       "<ExitCode.OK: 0>"
      ]
     },
     "execution_count": 27,
     "metadata": {},
     "output_type": "execute_result"
    }
   ],
   "source": [
    "def isSameTree(a, b) -> bool:\n",
    "    if a is None and b is None:\n",
    "        return True\n",
    "    if a is None or b is None:\n",
    "        return False\n",
    "    if a.val != b.val:\n",
    "        return False\n",
    "    return isSameTree(a.left, b.left) and isSameTree(a.right, b.right)\n",
    "\n",
    "\n",
    "def test_isSameTree ():\n",
    "    tree1 = TreeNode(1)\n",
    "    tree1.left = TreeNode(2)\n",
    "    tree1.right = TreeNode(3)\n",
    "\n",
    "    tree2 = TreeNode(1)\n",
    "    tree2.left = TreeNode(2)\n",
    "    tree2.right = TreeNode(3)\n",
    "    assert isSameTree (tree1, tree2) == True\n",
    "ipytest.run()\n"
   ]
  },
  {
   "cell_type": "code",
   "execution_count": 28,
   "id": "43fb2fe6",
   "metadata": {},
   "outputs": [],
   "source": [
    "def dfs(left: TreeNode, right: TreeNode) -> int:\n",
    "    if left is None or right is None:\n",
    "        return 0\n",
    "    count = 0\n",
    "    # Нашли пару\n",
    "    if left.val == right.val:\n",
    "        count = 1\n",
    "    # Рекурсивно проверяем детей в зеркальном порядке\n",
    "    count += dfs(left.left, right.right)\n",
    "    count += dfs(left.right, right.left)\n",
    "    \n",
    "    return count\n",
    "\n",
    "def count_mirror_twins(root: TreeNode) -> int:\n",
    "    if root is None:\n",
    "        return 0\n",
    "    return dfs(root.left, root.right)"
   ]
  },
  {
   "cell_type": "code",
   "execution_count": null,
   "id": "898da433",
   "metadata": {},
   "outputs": [],
   "source": []
  }
 ],
 "metadata": {
  "kernelspec": {
   "display_name": "Python 3 (ipykernel)",
   "language": "python",
   "name": "python3"
  },
  "language_info": {
   "codemirror_mode": {
    "name": "ipython",
    "version": 3
   },
   "file_extension": ".py",
   "mimetype": "text/x-python",
   "name": "python",
   "nbconvert_exporter": "python",
   "pygments_lexer": "ipython3",
   "version": "3.11.5"
  }
 },
 "nbformat": 4,
 "nbformat_minor": 5
}
