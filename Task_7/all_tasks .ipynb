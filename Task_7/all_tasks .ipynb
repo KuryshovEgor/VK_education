{
 "cells": [
  {
   "cell_type": "code",
   "execution_count": 1,
   "id": "433bd387",
   "metadata": {},
   "outputs": [],
   "source": [
    "import ipytest\n",
    "ipytest.autoconfig()"
   ]
  },
  {
   "cell_type": "code",
   "execution_count": 4,
   "id": "43c77ece",
   "metadata": {},
   "outputs": [
    {
     "data": {
      "text/plain": [
       "[[1, 2, 3], [4, 6, 5, 7], [8, 11, 9, 10]]"
      ]
     },
     "execution_count": 4,
     "metadata": {},
     "output_type": "execute_result"
    }
   ],
   "source": [
    "#компоненты связности \n",
    "def find_connected_components(graph):\n",
    "    visited = {node: False for node in graph}\n",
    "    connected_components = []\n",
    "    \n",
    "    for node in graph:\n",
    "        if not visited[node]:\n",
    "            component = []\n",
    "            dfs(graph, node, visited, component)\n",
    "            connected_components.append(component)\n",
    "    \n",
    "    return connected_components\n",
    "\n",
    "def dfs(graph, v, visited, component):\n",
    "    visited[v] = True\n",
    "    component.append(v)\n",
    "    \n",
    "    for neighbor in graph[v]:\n",
    "        if not visited[neighbor]:\n",
    "            dfs(graph, neighbor, visited, component)\n",
    "            \n",
    "graph = {\n",
    " 1: [2, 3],\n",
    " 2: [1, 3],\n",
    " 3: [1, 2],\n",
    " 4: [6, 7],\n",
    " 5: [6, 7],\n",
    " 6: [4, 5, 7],\n",
    " 7: [4, 5, 6],\n",
    " 8: [11],\n",
    " 9: [10, 11],\n",
    " 10: [9],\n",
    " 11: [8, 9]\n",
    "}\n",
    "find_connected_components(graph)"
   ]
  },
  {
   "cell_type": "code",
   "execution_count": 7,
   "id": "e1daca31",
   "metadata": {},
   "outputs": [
    {
     "name": "stdout",
     "output_type": "stream",
     "text": [
      "\u001b[32m.\u001b[0m\u001b[32m                                                                                            [100%]\u001b[0m\n",
      "\u001b[32m\u001b[32m\u001b[1m1 passed\u001b[0m\u001b[32m in 0.01s\u001b[0m\u001b[0m\n"
     ]
    },
    {
     "data": {
      "text/plain": [
       "<ExitCode.OK: 0>"
      ]
     },
     "execution_count": 7,
     "metadata": {},
     "output_type": "execute_result"
    }
   ],
   "source": [
    "#цикл\n",
    "def has_cycle(graph):\n",
    "    visited = []\n",
    "    for vertex in graph:\n",
    "        if vertex not in visited:\n",
    "            if dfs(graph, vertex, None, visited):\n",
    "                return True\n",
    "    return False\n",
    "\n",
    "def dfs(graph, vertex, parent, visited):\n",
    "    visited.append(vertex)\n",
    "    for neighbor in graph[vertex]:\n",
    "        if neighbor != parent:\n",
    "            if neighbor in visited or dfs(graph, neighbor, vertex, visited):\n",
    "                return True\n",
    "    return False\n",
    "\n",
    "def test_has_cycle():\n",
    "    graph = {\n",
    "     8: [11],\n",
    "     9: [10, 11],\n",
    "     10: [9, 11],\n",
    "     11: [8, 9, 10]\n",
    "    }\n",
    "    assert has_cycle(graph) == True\n",
    "ipytest.run()"
   ]
  },
  {
   "cell_type": "code",
   "execution_count": 8,
   "id": "e1683c32",
   "metadata": {},
   "outputs": [
    {
     "data": {
      "text/plain": [
       "{'A': 0, 'B': 1, 'C': 3, 'D': 4}"
      ]
     },
     "execution_count": 8,
     "metadata": {},
     "output_type": "execute_result"
    }
   ],
   "source": [
    "import heapq\n",
    "\n",
    "def dijkstra(graph, start):\n",
    "    # Инициализация расстояний (бесконечность для всех вершин, кроме начальной)\n",
    "    distances = {vertex: float('infinity') for vertex in graph}\n",
    "    distances[start] = 0\n",
    "    # Приоритетная очередь (куча) для хранения (расстояние, вершина)\n",
    "    priority_queue = [(0, start)]\n",
    "    \n",
    "    while priority_queue:\n",
    "        current_distance, current_vertex = heapq.heappop(priority_queue)\n",
    "        \n",
    "        # Пропускаем устаревшие записи\n",
    "        if current_distance > distances[current_vertex]:\n",
    "            continue\n",
    "        # Обновляем расстояния до соседей\n",
    "        for neighbor, weight in graph[current_vertex].items():\n",
    "            distance = current_distance + weight\n",
    "            \n",
    "            # Если нашли более короткий путь\n",
    "            if distance < distances[neighbor]:\n",
    "                distances[neighbor] = distance\n",
    "                heapq.heappush(priority_queue, (distance, neighbor))\n",
    "    \n",
    "    return distances\n",
    "\n",
    "graph = {\n",
    " 'A': {'B': 1, 'C': 5},\n",
    " 'B': {'A': 1, 'C': 2, 'D': 3},\n",
    " 'C': {'A': 5, 'B': 2, 'D': 1},\n",
    " 'D': {'B': 3, 'C': 1}\n",
    "}\n",
    "dijkstra(graph, 'A')"
   ]
  },
  {
   "cell_type": "code",
   "execution_count": 9,
   "id": "e75c3049",
   "metadata": {},
   "outputs": [],
   "source": [
    "from collections import deque\n",
    "\n",
    "def isBipartite(graph):\n",
    "    n = len(graph)\n",
    "    colors = [0] * n \n",
    "    \n",
    "    def bfs(start):\n",
    "        queue = deque([start])\n",
    "        colors[start] = 1\n",
    "        while queue:\n",
    "            node = queue.popleft()\n",
    "            for neighbor in graph[node]:\n",
    "                if colors[neighbor] == 0:\n",
    "                    colors[neighbor] = -colors[node]\n",
    "                    queue.append(neighbor)\n",
    "                elif colors[neighbor] == colors[node]:\n",
    "                    return False\n",
    "        return True\n",
    "    \n",
    "    for i in range(n):\n",
    "        if colors[i] == 0:\n",
    "            if not bfs(i):\n",
    "                return False\n",
    "    return True"
   ]
  },
  {
   "cell_type": "code",
   "execution_count": null,
   "id": "6042af2f",
   "metadata": {},
   "outputs": [],
   "source": []
  }
 ],
 "metadata": {
  "kernelspec": {
   "display_name": "Python 3 (ipykernel)",
   "language": "python",
   "name": "python3"
  },
  "language_info": {
   "codemirror_mode": {
    "name": "ipython",
    "version": 3
   },
   "file_extension": ".py",
   "mimetype": "text/x-python",
   "name": "python",
   "nbconvert_exporter": "python",
   "pygments_lexer": "ipython3",
   "version": "3.11.5"
  }
 },
 "nbformat": 4,
 "nbformat_minor": 5
}
